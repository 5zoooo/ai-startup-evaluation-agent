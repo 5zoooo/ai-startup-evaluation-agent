{
 "cells": [
  {
   "cell_type": "code",
   "execution_count": 11,
   "metadata": {},
   "outputs": [
    {
     "name": "stderr",
     "output_type": "stream",
     "text": [
      "Ignoring wrong pointing object 6 0 (offset 0)\n",
      "Ignoring wrong pointing object 365 0 (offset 0)\n"
     ]
    }
   ],
   "source": [
    "import os\n",
    "from dotenv import load_dotenv\n",
    "from langchain.document_loaders import PyPDFLoader\n",
    "from langchain.text_splitter import RecursiveCharacterTextSplitter\n",
    "from langchain.embeddings import OpenAIEmbeddings\n",
    "from langchain.vectorstores import Pinecone as PineconeVectorStore\n",
    "from pinecone import Pinecone, ServerlessSpec\n",
    "\n",
    "# 1. 환경 변수 로딩\n",
    "load_dotenv()\n",
    "\n",
    "# 2. Pinecone 연결\n",
    "pc = Pinecone(api_key=os.getenv(\"PINECONE_API_KEY\"))\n",
    "index_name = \"investment-analysis-final\"\n",
    "\n",
    "# 3. 인덱스가 없으면 생성\n",
    "if index_name not in pc.list_indexes().names():\n",
    "    pc.create_index(\n",
    "        name=index_name,\n",
    "        dimension=1536,  # OpenAI 임베딩 차원 수\n",
    "        metric=\"cosine\",\n",
    "        spec=ServerlessSpec(\n",
    "            cloud=\"aws\",\n",
    "            region=\"us-east-1\"  # 👉 실제 Pinecone 인덱스 지역\n",
    "        )\n",
    "    )\n",
    "\n",
    "# 4. 인덱스 연결\n",
    "index = pc.Index(index_name)\n",
    "\n",
    "# 5. OpenAI 임베딩 모델 준비\n",
    "embedding_model = OpenAIEmbeddings(openai_api_key=os.getenv(\"OPENAI_API_KEY\"))\n",
    "\n",
    "# 6. 문서 분할 전략 정의\n",
    "text_splitter = RecursiveCharacterTextSplitter(\n",
    "    chunk_size=500,\n",
    "    chunk_overlap=80,\n",
    "    separators=[\"\\n\\n\", \"\\n\", \" \", \"\"]\n",
    ")\n",
    "\n",
    "# 7. PDF 파일 리스트\n",
    "pdf_files = [\n",
    "    (\"AI News.pdf\", \"ai_news\"),\n",
    "    (\"Startup Evaluation Metrics.pdf\", \"startup_metrics\"),\n",
    "    (\"VoyagerX Introduction.pdf\", \"voyagerx_intro\"),\n",
    "    (\"Video Stt Script.pdf\", \"video_stt_script\")  # ✅ 추가된 PDF\n",
    "]\n",
    "\n",
    "all_chunks = []\n",
    "\n",
    "# 8. 각 PDF 로딩, 분할, 메타데이터 부여\n",
    "for filename, doc_id in pdf_files:\n",
    "    loader = PyPDFLoader(filename)\n",
    "    pages = loader.load_and_split()\n",
    "\n",
    "    for i, doc in enumerate(pages):\n",
    "        doc.metadata[\"source\"] = doc_id\n",
    "        doc.metadata[\"page\"] = i + 1\n",
    "\n",
    "    chunks = text_splitter.split_documents(pages)\n",
    "    all_chunks.extend(chunks)\n",
    "\n",
    "# 9. Pinecone에 업로드\n",
    "vectorstore = PineconeVectorStore.from_documents(\n",
    "    documents=all_chunks,\n",
    "    embedding=embedding_model,\n",
    "    index_name=index_name\n",
    ")\n"
   ]
  },
  {
   "cell_type": "code",
   "execution_count": 14,
   "metadata": {},
   "outputs": [
    {
     "name": "stdout",
     "output_type": "stream",
     "text": [
      "🧠 GPT 단독 응답:\n",
      " 남세동 CEO는 한국의 기업인으로, 주식회사 네이버의 현 CEO이며 이사회 의장이기도 합니다. 그는 네이버의 창업 멤버 중 한 명으로, 회사의 성장과 발전에 큰 역할을 해왔습니다. 또한 인터넷 기업의 선구자로서, 한국의 IT 산업을 선도하는 인물로 평가받고 있습니다. 현재 네이버를 한국을 넘어 글로벌 기업으로 성장시키기 위해 노력하고 있습니다.\n"
     ]
    }
   ],
   "source": [
    "from langchain.chat_models import ChatOpenAI\n",
    "from langchain.prompts import ChatPromptTemplate\n",
    "\n",
    "llm = ChatOpenAI(model_name=\"gpt-3.5-turbo\", temperature=0)\n",
    "\n",
    "prompt = ChatPromptTemplate.from_template(\n",
    "    \"남세동 CEO에 대해 알려줘.\"\n",
    ")\n",
    "\n",
    "response = llm.invoke(prompt.format())\n",
    "print(\"🧠 GPT 단독 응답:\\n\", response.content)"
   ]
  },
  {
   "cell_type": "code",
   "execution_count": 15,
   "metadata": {},
   "outputs": [
    {
     "name": "stdout",
     "output_type": "stream",
     "text": [
      "📚 벡터 DB + GPT 응답:\n",
      " 남세동은 보이저엑스의 CEO이며, 자기주도적인 직원을 채용하기 위해 4단계의 채용 과정을 거치며, 지원자의 과거 경험과 정직성을 중요하게 평가합니다. 또한, 언러닝(Unlearning)의 중요성을 강조하며, 회사와 개인이 동반의 개념이라는 사실을 강조하고 있습니다. 회사의 성장과 개인의 성장 사이의 조화와 밸런스를 맞추는 것을 중요시하고 있으며, 회사에 헌신하지 말라고 이야기하며, 맹목적으로 지시에 따르는 것이 아닌 자기주도적으로 일하고 성장할 수 있는 문화를 만들어가고 있습니다.\n"
     ]
    }
   ],
   "source": [
    "query = \"남세동 CEO에 대해서 알려줘\"\n",
    "\n",
    "# 유사 문서 검색\n",
    "retrieved_docs = vectorstore.similarity_search(query, k=3)\n",
    "context = \"\\n\\n\".join([doc.page_content for doc in retrieved_docs])\n",
    "\n",
    "# 프롬프트에 문서 포함\n",
    "final_prompt = f\"\"\"\n",
    "다음 문서를 참고해서 질문에 답해주세요.\n",
    "\n",
    "문서:\n",
    "{context}\n",
    "\n",
    "질문: {query}\n",
    "\"\"\"\n",
    "\n",
    "response = llm.invoke(final_prompt)\n",
    "print(\"📚 벡터 DB + GPT 응답:\\n\", response.content)\n"
   ]
  }
 ],
 "metadata": {
  "kernelspec": {
   "display_name": "venv311",
   "language": "python",
   "name": "python3"
  },
  "language_info": {
   "codemirror_mode": {
    "name": "ipython",
    "version": 3
   },
   "file_extension": ".py",
   "mimetype": "text/x-python",
   "name": "python",
   "nbconvert_exporter": "python",
   "pygments_lexer": "ipython3",
   "version": "3.11.0"
  }
 },
 "nbformat": 4,
 "nbformat_minor": 2
}
